{
 "cells": [
  {
   "cell_type": "code",
   "execution_count": 45,
   "id": "748c1647-e2af-4cd1-af7d-2fabaf370a8a",
   "metadata": {},
   "outputs": [
    {
     "ename": "ModuleNotFoundError",
     "evalue": "No module named 'config'",
     "output_type": "error",
     "traceback": [
      "\u001b[1;31m---------------------------------------------------------------------------\u001b[0m",
      "\u001b[1;31mModuleNotFoundError\u001b[0m                       Traceback (most recent call last)",
      "\u001b[1;32m<ipython-input-45-19b71d22e5e9>\u001b[0m in \u001b[0;36m<module>\u001b[1;34m\u001b[0m\n\u001b[0;32m      1\u001b[0m \u001b[1;32mimport\u001b[0m \u001b[0mpandas\u001b[0m \u001b[1;32mas\u001b[0m \u001b[0mpd\u001b[0m\u001b[1;33m\u001b[0m\u001b[1;33m\u001b[0m\u001b[0m\n\u001b[0;32m      2\u001b[0m \u001b[1;32mfrom\u001b[0m \u001b[0msqlalchemy\u001b[0m \u001b[1;32mimport\u001b[0m \u001b[0mcreate_engine\u001b[0m\u001b[1;33m\u001b[0m\u001b[1;33m\u001b[0m\u001b[0m\n\u001b[1;32m----> 3\u001b[1;33m \u001b[1;32mfrom\u001b[0m \u001b[0mconfig\u001b[0m \u001b[1;32mimport\u001b[0m \u001b[0mrds_connection_string\u001b[0m\u001b[1;33m\u001b[0m\u001b[1;33m\u001b[0m\u001b[0m\n\u001b[0m",
      "\u001b[1;31mModuleNotFoundError\u001b[0m: No module named 'config'"
     ]
    }
   ],
   "source": [
    "import pandas as pd\n",
    "from sqlalchemy import create_engine\n",
    "from config import rds_connection_string"
   ]
  },
  {
   "cell_type": "code",
   "execution_count": 46,
   "id": "1d080b21-bd44-41f2-9de3-adbeef9f67df",
   "metadata": {},
   "outputs": [],
   "source": [
    "rawdata_2008 = pd.read_csv('Data/data.csv')\n",
    "rawdata_2018 =pd.read_csv('Data/zipcode_sales_nov2018.csv')"
   ]
  },
  {
   "cell_type": "code",
   "execution_count": 47,
   "id": "903d9b99-388a-4b57-99cf-7f30aae608fa",
   "metadata": {},
   "outputs": [],
   "source": [
    "def clean_2018_data(rawdata_2018):\n",
    "    cleandata_2018= (rawdata_2018.copy()\n",
    "                         .rename(columns={\"ZIP\":'zip',\n",
    "                                          \"Sales\":'Sales_2018',\n",
    "                                          '2017 median':'Median_Price_2017',\n",
    "                                          '2018 median':'Median_Price_2018'})\n",
    "                         .drop(['Change'],axis=1))\n",
    "    return cleandata_2018"
   ]
  },
  {
   "cell_type": "code",
   "execution_count": 48,
   "id": "63a1ebc2-e824-4af5-8152-1b06e3e4fcda",
   "metadata": {},
   "outputs": [],
   "source": [
    "def clean_2008_data(rawdata_2008):\n",
    "    cleandata_2008 = rawdata_2008.copy()\n",
    "    cleandata_2008 = cleandata_2008.drop(cleandata_2008.index[cleandata_2008['sq_ft']==0])\n",
    "    \n",
    "    # determine the price per sqft\n",
    "    cleandata_2008['price per sqft'] = cleandata_2008['price']/cleandata_2008['sq_ft']\n",
    "    \n",
    "    return cleandata_2008"
   ]
  },
  {
   "cell_type": "code",
   "execution_count": 49,
   "id": "60bdb8bd-24d0-46f3-8aec-08ffba739b1d",
   "metadata": {},
   "outputs": [],
   "source": [
    "def aggregate_2008_data(cleandata_2008):\n",
    "    aggregate_2008 = (round(cleandata_2008.copy()\n",
    "         #group sales by zip code\n",
    "        .groupby('zip')\n",
    "         # find the medians of each category, and the total sales count                   \n",
    "        .agg({'price':'median',\n",
    "              'price per sqft':'median',\n",
    "              'sq_ft':'median',\n",
    "              'city':'count'})\n",
    "         # rename column headers to reflect the new meanings                   \n",
    "        .rename(columns={'city':\"Sales_2008\",\n",
    "                         'price':\"Median_Price_2008\",\n",
    "                         'price per sqft':'Median_Price_sqft_2008',\n",
    "                         'sq_ft':\"Median_sqft_2008\"}),0)\n",
    "                     )\n",
    "    return aggregate_2008"
   ]
  },
  {
   "cell_type": "code",
   "execution_count": 50,
   "id": "81aac8b8-f0e1-47de-96a5-949062020dcd",
   "metadata": {},
   "outputs": [],
   "source": [
    "def export_data(data_2008,data_2018,output_path):\n",
    "    combined_stats = pd.merge(data_2008, data_2018, on=\"zip\",how='inner')\n",
    "    combined_stats.to_csv('Data/zipcode_medians_combined.csv')\n",
    "    \n",
    "    return combined_stats"
   ]
  },
  {
   "cell_type": "code",
   "execution_count": 53,
   "id": "2f1267ea-2a2b-452f-8f4b-a1885e45b1b9",
   "metadata": {},
   "outputs": [],
   "source": [
    "def load_data(data):\n",
    "\n",
    "    engine = create_engine(f'postgresql://{rds_connection_string}')\n",
    "    combined_df.to_sql(name='zippy', con=engine, if_exists='append', index=False)"
   ]
  },
  {
   "cell_type": "code",
   "execution_count": 55,
   "id": "148a514e-69c7-4dcb-9789-156d830105fb",
   "metadata": {},
   "outputs": [
    {
     "data": {
      "text/html": [
       "<div>\n",
       "<style scoped>\n",
       "    .dataframe tbody tr th:only-of-type {\n",
       "        vertical-align: middle;\n",
       "    }\n",
       "\n",
       "    .dataframe tbody tr th {\n",
       "        vertical-align: top;\n",
       "    }\n",
       "\n",
       "    .dataframe thead th {\n",
       "        text-align: right;\n",
       "    }\n",
       "</style>\n",
       "<table border=\"1\" class=\"dataframe\">\n",
       "  <thead>\n",
       "    <tr style=\"text-align: right;\">\n",
       "      <th></th>\n",
       "      <th>zip</th>\n",
       "      <th>Median_Price_2008</th>\n",
       "      <th>Median_Price_sqft_2008</th>\n",
       "      <th>Median_sqft_2008</th>\n",
       "      <th>Sales_2008</th>\n",
       "      <th>Community</th>\n",
       "      <th>Sales_2018</th>\n",
       "      <th>Median_Price_2017</th>\n",
       "      <th>Median_Price_2018</th>\n",
       "    </tr>\n",
       "  </thead>\n",
       "  <tbody>\n",
       "    <tr>\n",
       "      <th>0</th>\n",
       "      <td>95603</td>\n",
       "      <td>285000.0</td>\n",
       "      <td>207.0</td>\n",
       "      <td>1255.0</td>\n",
       "      <td>3</td>\n",
       "      <td>Auburn</td>\n",
       "      <td>29</td>\n",
       "      <td>407550</td>\n",
       "      <td>440000</td>\n",
       "    </tr>\n",
       "    <tr>\n",
       "      <th>1</th>\n",
       "      <td>95608</td>\n",
       "      <td>248567.0</td>\n",
       "      <td>182.0</td>\n",
       "      <td>1472.0</td>\n",
       "      <td>20</td>\n",
       "      <td>Carmichael</td>\n",
       "      <td>61</td>\n",
       "      <td>372250</td>\n",
       "      <td>399500</td>\n",
       "    </tr>\n",
       "    <tr>\n",
       "      <th>2</th>\n",
       "      <td>95610</td>\n",
       "      <td>219000.0</td>\n",
       "      <td>123.0</td>\n",
       "      <td>1410.0</td>\n",
       "      <td>7</td>\n",
       "      <td>Citrus Heights</td>\n",
       "      <td>29</td>\n",
       "      <td>325000</td>\n",
       "      <td>362000</td>\n",
       "    </tr>\n",
       "  </tbody>\n",
       "</table>\n",
       "</div>"
      ],
      "text/plain": [
       "     zip  Median_Price_2008  Median_Price_sqft_2008  Median_sqft_2008  \\\n",
       "0  95603           285000.0                   207.0            1255.0   \n",
       "1  95608           248567.0                   182.0            1472.0   \n",
       "2  95610           219000.0                   123.0            1410.0   \n",
       "\n",
       "   Sales_2008       Community  Sales_2018  Median_Price_2017  \\\n",
       "0           3          Auburn          29             407550   \n",
       "1          20      Carmichael          61             372250   \n",
       "2           7  Citrus Heights          29             325000   \n",
       "\n",
       "   Median_Price_2018  \n",
       "0             440000  \n",
       "1             399500  \n",
       "2             362000  "
      ]
     },
     "execution_count": 55,
     "metadata": {},
     "output_type": "execute_result"
    }
   ],
   "source": [
    "clean2018 = clean_2018_data(rawdata_2018)\n",
    "clean2008 = clean_2008_data(rawdata_2008)\n",
    "aggregate2008 = aggregate_2008_data(clean2008)\n",
    "combined_df =export_data(aggregate2008,clean2018,output_path)\n",
    "load_data(combined_df)\n",
    "\n",
    "combined_df.head(3)"
   ]
  },
  {
   "cell_type": "code",
   "execution_count": null,
   "id": "a1455dd0-90d5-4f01-9649-eacc381f6802",
   "metadata": {},
   "outputs": [],
   "source": []
  }
 ],
 "metadata": {
  "kernelspec": {
   "display_name": "Python 3",
   "language": "python",
   "name": "python3"
  },
  "language_info": {
   "codemirror_mode": {
    "name": "ipython",
    "version": 3
   },
   "file_extension": ".py",
   "mimetype": "text/x-python",
   "name": "python",
   "nbconvert_exporter": "python",
   "pygments_lexer": "ipython3",
   "version": "3.8.10"
  }
 },
 "nbformat": 4,
 "nbformat_minor": 5
}

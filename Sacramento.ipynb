{
  "cells": [
    {
      "cell_type": "code",
      "source": [
        "import pandas as pd\n",
        "from sqlalchemy import create_engine"
      ],
      "outputs": [],
      "execution_count": 2,
      "metadata": {}
    },
    {
      "cell_type": "markdown",
      "source": [
        "### Store CSV into DataFrame"
      ],
      "metadata": {
        "slideshow": {
          "slide_type": "-"
        }
      }
    },
    {
      "cell_type": "code",
      "source": [
        "#Read file data\n",
        "csv_file = \"Data/zipcode_medians_combined.csv\"\n",
        "data_df = pd.read_csv(csv_file)\n",
        "data_df.head()"
      ],
      "outputs": [
        {
          "output_type": "execute_result",
          "data": {
            "text/plain": [
              "   Unnamed: 0    zip  Median Price 2008  Median Price/sqft 2008  \\\n",
              "0           0  95603           285000.0                   207.0   \n",
              "1           1  95608           248567.0                   182.0   \n",
              "2           2  95610           219000.0                   123.0   \n",
              "3           3  95621           168646.0                   143.0   \n",
              "4           4  95624           229000.0                   139.0   \n",
              "\n",
              "   Median sqft 2008  Sales 2008       Community  Sales 2018  \\\n",
              "0            1255.0           3          Auburn          29   \n",
              "1            1472.0          20      Carmichael          61   \n",
              "2            1410.0           7  Citrus Heights          29   \n",
              "3            1268.0          28  Citrus Heights          32   \n",
              "4            1721.0          31       Elk Grove          74   \n",
              "\n",
              "   Median Price 2017  Median Price 2018  \n",
              "0             407550             440000  \n",
              "1             372250             399500  \n",
              "2             325000             362000  \n",
              "3             306000             316500  \n",
              "4             390000             424000  "
            ],
            "text/html": "<div>\n<style scoped>\n    .dataframe tbody tr th:only-of-type {\n        vertical-align: middle;\n    }\n\n    .dataframe tbody tr th {\n        vertical-align: top;\n    }\n\n    .dataframe thead th {\n        text-align: right;\n    }\n</style>\n<table border=\"1\" class=\"dataframe\">\n  <thead>\n    <tr style=\"text-align: right;\">\n      <th></th>\n      <th>Unnamed: 0</th>\n      <th>zip</th>\n      <th>Median Price 2008</th>\n      <th>Median Price/sqft 2008</th>\n      <th>Median sqft 2008</th>\n      <th>Sales 2008</th>\n      <th>Community</th>\n      <th>Sales 2018</th>\n      <th>Median Price 2017</th>\n      <th>Median Price 2018</th>\n    </tr>\n  </thead>\n  <tbody>\n    <tr>\n      <th>0</th>\n      <td>0</td>\n      <td>95603</td>\n      <td>285000.0</td>\n      <td>207.0</td>\n      <td>1255.0</td>\n      <td>3</td>\n      <td>Auburn</td>\n      <td>29</td>\n      <td>407550</td>\n      <td>440000</td>\n    </tr>\n    <tr>\n      <th>1</th>\n      <td>1</td>\n      <td>95608</td>\n      <td>248567.0</td>\n      <td>182.0</td>\n      <td>1472.0</td>\n      <td>20</td>\n      <td>Carmichael</td>\n      <td>61</td>\n      <td>372250</td>\n      <td>399500</td>\n    </tr>\n    <tr>\n      <th>2</th>\n      <td>2</td>\n      <td>95610</td>\n      <td>219000.0</td>\n      <td>123.0</td>\n      <td>1410.0</td>\n      <td>7</td>\n      <td>Citrus Heights</td>\n      <td>29</td>\n      <td>325000</td>\n      <td>362000</td>\n    </tr>\n    <tr>\n      <th>3</th>\n      <td>3</td>\n      <td>95621</td>\n      <td>168646.0</td>\n      <td>143.0</td>\n      <td>1268.0</td>\n      <td>28</td>\n      <td>Citrus Heights</td>\n      <td>32</td>\n      <td>306000</td>\n      <td>316500</td>\n    </tr>\n    <tr>\n      <th>4</th>\n      <td>4</td>\n      <td>95624</td>\n      <td>229000.0</td>\n      <td>139.0</td>\n      <td>1721.0</td>\n      <td>31</td>\n      <td>Elk Grove</td>\n      <td>74</td>\n      <td>390000</td>\n      <td>424000</td>\n    </tr>\n  </tbody>\n</table>\n</div>"
          },
          "metadata": {},
          "execution_count": 27
        }
      ],
      "execution_count": 27,
      "metadata": {
        "tags": []
      }
    },
    {
      "cell_type": "markdown",
      "source": [
        "### Create new data with select columns"
      ],
      "metadata": {}
    },
    {
      "cell_type": "code",
      "source": [
        "new__data_df = data_df[['zip', 'Median Price 2008', 'Sales 2008', 'Median Price 2018', 'Sales 2018']].copy()\n",
        "new__data_df.head()"
      ],
      "outputs": [
        {
          "output_type": "execute_result",
          "data": {
            "text/plain": [
              "     zip  Median Price 2008  Sales 2008  Median Price 2018  Sales 2018\n",
              "0  95603           285000.0           3             440000          29\n",
              "1  95608           248567.0          20             399500          61\n",
              "2  95610           219000.0           7             362000          29\n",
              "3  95621           168646.0          28             316500          32\n",
              "4  95624           229000.0          31             424000          74"
            ],
            "text/html": "<div>\n<style scoped>\n    .dataframe tbody tr th:only-of-type {\n        vertical-align: middle;\n    }\n\n    .dataframe tbody tr th {\n        vertical-align: top;\n    }\n\n    .dataframe thead th {\n        text-align: right;\n    }\n</style>\n<table border=\"1\" class=\"dataframe\">\n  <thead>\n    <tr style=\"text-align: right;\">\n      <th></th>\n      <th>zip</th>\n      <th>Median Price 2008</th>\n      <th>Sales 2008</th>\n      <th>Median Price 2018</th>\n      <th>Sales 2018</th>\n    </tr>\n  </thead>\n  <tbody>\n    <tr>\n      <th>0</th>\n      <td>95603</td>\n      <td>285000.0</td>\n      <td>3</td>\n      <td>440000</td>\n      <td>29</td>\n    </tr>\n    <tr>\n      <th>1</th>\n      <td>95608</td>\n      <td>248567.0</td>\n      <td>20</td>\n      <td>399500</td>\n      <td>61</td>\n    </tr>\n    <tr>\n      <th>2</th>\n      <td>95610</td>\n      <td>219000.0</td>\n      <td>7</td>\n      <td>362000</td>\n      <td>29</td>\n    </tr>\n    <tr>\n      <th>3</th>\n      <td>95621</td>\n      <td>168646.0</td>\n      <td>28</td>\n      <td>316500</td>\n      <td>32</td>\n    </tr>\n    <tr>\n      <th>4</th>\n      <td>95624</td>\n      <td>229000.0</td>\n      <td>31</td>\n      <td>424000</td>\n      <td>74</td>\n    </tr>\n  </tbody>\n</table>\n</div>"
          },
          "metadata": {},
          "execution_count": 29
        }
      ],
      "execution_count": 29,
      "metadata": {}
    },
    {
      "cell_type": "markdown",
      "source": [
        "### Connect to local database"
      ],
      "metadata": {}
    },
    {
      "cell_type": "code",
      "source": [
        "rds_connection_string = \"<cphyland>:<insert password>@localhost:5432/customer_db\"\n",
        "engine = create_engine(f'postgresql://{rds_connection_string}')"
      ],
      "outputs": [],
      "execution_count": 6,
      "metadata": {}
    },
    {
      "cell_type": "markdown",
      "source": [
        "### Check for tables"
      ],
      "metadata": {}
    },
    {
      "cell_type": "code",
      "source": [
        "engine.table_names()"
      ],
      "outputs": [
        {
          "output_type": "execute_result",
          "execution_count": 7,
          "data": {
            "text/plain": [
              "['customer_location', 'customer_name']"
            ]
          },
          "metadata": {}
        }
      ],
      "execution_count": 7,
      "metadata": {}
    },
    {
      "cell_type": "markdown",
      "source": [
        "### Use pandas to load csv converted DataFrame into database"
      ],
      "metadata": {}
    },
    {
      "cell_type": "code",
      "source": [
        "new_customer_data_df.to_sql(name='customer_name', con=engine, if_exists='append', index=False)"
      ],
      "outputs": [],
      "execution_count": 8,
      "metadata": {}
    },
    {
      "cell_type": "markdown",
      "source": [
        "### Use pandas to load json converted DataFrame into database"
      ],
      "metadata": {}
    },
    {
      "cell_type": "code",
      "source": [
        "new_customer_location_df.to_sql(name='customer_location', con=engine, if_exists='append', index=False)"
      ],
      "outputs": [],
      "execution_count": 9,
      "metadata": {}
    },
    {
      "cell_type": "markdown",
      "source": [
        "### Confirm data has been added by querying the customer_name table\n",
        "* NOTE: can also check using pgAdmin"
      ],
      "metadata": {}
    },
    {
      "cell_type": "code",
      "source": [
        "pd.read_sql_query('select * from customer_name', con=engine).head()"
      ],
      "outputs": [
        {
          "output_type": "execute_result",
          "execution_count": 10,
          "data": {
            "text/html": [
              "<div>\n",
              "<style scoped>\n",
              "    .dataframe tbody tr th:only-of-type {\n",
              "        vertical-align: middle;\n",
              "    }\n",
              "\n",
              "    .dataframe tbody tr th {\n",
              "        vertical-align: top;\n",
              "    }\n",
              "\n",
              "    .dataframe thead th {\n",
              "        text-align: right;\n",
              "    }\n",
              "</style>\n",
              "<table border=\"1\" class=\"dataframe\">\n",
              "  <thead>\n",
              "    <tr style=\"text-align: right;\">\n",
              "      <th></th>\n",
              "      <th>id</th>\n",
              "      <th>first_name</th>\n",
              "      <th>last_name</th>\n",
              "    </tr>\n",
              "  </thead>\n",
              "  <tbody>\n",
              "    <tr>\n",
              "      <th>0</th>\n",
              "      <td>1</td>\n",
              "      <td>Benetta</td>\n",
              "      <td>Cancott</td>\n",
              "    </tr>\n",
              "    <tr>\n",
              "      <th>1</th>\n",
              "      <td>2</td>\n",
              "      <td>Lilyan</td>\n",
              "      <td>Cherry</td>\n",
              "    </tr>\n",
              "    <tr>\n",
              "      <th>2</th>\n",
              "      <td>3</td>\n",
              "      <td>Ezekiel</td>\n",
              "      <td>Benasik</td>\n",
              "    </tr>\n",
              "    <tr>\n",
              "      <th>3</th>\n",
              "      <td>4</td>\n",
              "      <td>Kennedy</td>\n",
              "      <td>Atlay</td>\n",
              "    </tr>\n",
              "    <tr>\n",
              "      <th>4</th>\n",
              "      <td>5</td>\n",
              "      <td>Sanford</td>\n",
              "      <td>Salmen</td>\n",
              "    </tr>\n",
              "  </tbody>\n",
              "</table>\n",
              "</div>"
            ],
            "text/plain": [
              "   id first_name last_name\n",
              "0   1    Benetta   Cancott\n",
              "1   2     Lilyan    Cherry\n",
              "2   3    Ezekiel   Benasik\n",
              "3   4    Kennedy     Atlay\n",
              "4   5    Sanford    Salmen"
            ]
          },
          "metadata": {}
        }
      ],
      "execution_count": 10,
      "metadata": {}
    },
    {
      "cell_type": "markdown",
      "source": [
        "### Confirm data has been added by querying the customer_location table"
      ],
      "metadata": {}
    },
    {
      "cell_type": "code",
      "source": [
        "pd.read_sql_query('select * from customer_location', con=engine).head()"
      ],
      "outputs": [
        {
          "output_type": "execute_result",
          "execution_count": 11,
          "data": {
            "text/html": [
              "<div>\n",
              "<style scoped>\n",
              "    .dataframe tbody tr th:only-of-type {\n",
              "        vertical-align: middle;\n",
              "    }\n",
              "\n",
              "    .dataframe tbody tr th {\n",
              "        vertical-align: top;\n",
              "    }\n",
              "\n",
              "    .dataframe thead th {\n",
              "        text-align: right;\n",
              "    }\n",
              "</style>\n",
              "<table border=\"1\" class=\"dataframe\">\n",
              "  <thead>\n",
              "    <tr style=\"text-align: right;\">\n",
              "      <th></th>\n",
              "      <th>id</th>\n",
              "      <th>address</th>\n",
              "      <th>us_state</th>\n",
              "    </tr>\n",
              "  </thead>\n",
              "  <tbody>\n",
              "    <tr>\n",
              "      <th>0</th>\n",
              "      <td>1</td>\n",
              "      <td>043 Mockingbird Place</td>\n",
              "      <td>Indiana</td>\n",
              "    </tr>\n",
              "    <tr>\n",
              "      <th>1</th>\n",
              "      <td>2</td>\n",
              "      <td>4 Prentice Point</td>\n",
              "      <td>Indiana</td>\n",
              "    </tr>\n",
              "    <tr>\n",
              "      <th>2</th>\n",
              "      <td>3</td>\n",
              "      <td>46 Derek Junction</td>\n",
              "      <td>Texas</td>\n",
              "    </tr>\n",
              "    <tr>\n",
              "      <th>3</th>\n",
              "      <td>4</td>\n",
              "      <td>11966 Old Shore Place</td>\n",
              "      <td>Missouri</td>\n",
              "    </tr>\n",
              "    <tr>\n",
              "      <th>4</th>\n",
              "      <td>5</td>\n",
              "      <td>5 Evergreen Circle</td>\n",
              "      <td>New York</td>\n",
              "    </tr>\n",
              "  </tbody>\n",
              "</table>\n",
              "</div>"
            ],
            "text/plain": [
              "   id                address  us_state\n",
              "0   1  043 Mockingbird Place   Indiana\n",
              "1   2       4 Prentice Point   Indiana\n",
              "2   3      46 Derek Junction     Texas\n",
              "3   4  11966 Old Shore Place  Missouri\n",
              "4   5     5 Evergreen Circle  New York"
            ]
          },
          "metadata": {}
        }
      ],
      "execution_count": 11,
      "metadata": {}
    },
    {
      "cell_type": "code",
      "source": [],
      "outputs": [],
      "execution_count": null,
      "metadata": {}
    }
  ],
  "metadata": {
    "kernelspec": {
      "name": "python3",
      "display_name": "Python 3.8.5 64-bit ('base': conda)"
    },
    "language_info": {
      "codemirror_mode": {
        "name": "ipython",
        "version": 3
      },
      "file_extension": ".py",
      "mimetype": "text/x-python",
      "name": "python",
      "nbconvert_exporter": "python",
      "pygments_lexer": "ipython3",
      "version": "3.8.5"
    },
    "nteract": {
      "version": "0.12.3"
    },
    "interpreter": {
      "hash": "ab59e8833a1c1a953fc61f7ebdf031460480fd348b396cef269440458dbce55f"
    }
  },
  "nbformat": 4,
  "nbformat_minor": 2
}